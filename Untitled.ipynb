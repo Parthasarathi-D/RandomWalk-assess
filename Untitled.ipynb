{
 "cells": [
  {
   "cell_type": "code",
   "execution_count": 22,
   "id": "31dca66e-1c22-40f9-a159-27685ef2ccdb",
   "metadata": {},
   "outputs": [],
   "source": [
    "#Q1: Identify missing or incorrect data in the dataset and apply appropriate preprocessing steps to clean it (code and explanation)"
   ]
  },
  {
   "cell_type": "code",
   "execution_count": 12,
   "id": "203b60be-bec2-4185-a742-7a27159ddb34",
   "metadata": {},
   "outputs": [
    {
     "name": "stdout",
     "output_type": "stream",
     "text": [
      "First few rows of the dataset:\n",
      "  species     island  bill_length_mm  bill_depth_mm  flipper_length_mm  \\\n",
      "0  Adelie  Torgersen            39.1           18.7              181.0   \n",
      "1  Adelie  Torgersen            39.5           17.4              186.0   \n",
      "2  Adelie  Torgersen            40.3           18.0              195.0   \n",
      "3  Adelie  Torgersen             NaN            NaN                NaN   \n",
      "4  Adelie  Torgersen            36.7           19.3              193.0   \n",
      "\n",
      "   body_mass_g     sex  \n",
      "0       3750.0    male  \n",
      "1       3800.0  female  \n",
      "2       3250.0  female  \n",
      "3          NaN     NaN  \n",
      "4       3450.0  female  \n",
      "\n",
      "Missing values in each column:\n",
      "species               0\n",
      "island                0\n",
      "bill_length_mm        7\n",
      "bill_depth_mm         2\n",
      "flipper_length_mm     2\n",
      "body_mass_g           2\n",
      "sex                  16\n",
      "dtype: int64\n",
      "\n",
      "Data after cleaning:\n",
      "<class 'pandas.core.frame.DataFrame'>\n",
      "RangeIndex: 344 entries, 0 to 343\n",
      "Data columns (total 7 columns):\n",
      " #   Column             Non-Null Count  Dtype  \n",
      "---  ------             --------------  -----  \n",
      " 0   species            344 non-null    object \n",
      " 1   island             344 non-null    object \n",
      " 2   bill_length_mm     344 non-null    float64\n",
      " 3   bill_depth_mm      344 non-null    float64\n",
      " 4   flipper_length_mm  344 non-null    float64\n",
      " 5   body_mass_g        344 non-null    float64\n",
      " 6   sex                344 non-null    object \n",
      "dtypes: float64(4), object(3)\n",
      "memory usage: 18.9+ KB\n",
      "None\n",
      "\n",
      "First few rows of the cleaned dataset:\n",
      "  species     island  bill_length_mm  bill_depth_mm  flipper_length_mm  \\\n",
      "0  Adelie  Torgersen       39.100000       18.70000         181.000000   \n",
      "1  Adelie  Torgersen       39.500000       17.40000         186.000000   \n",
      "2  Adelie  Torgersen       40.300000       18.00000         195.000000   \n",
      "3  Adelie  Torgersen       43.876855       17.15117         200.915205   \n",
      "4  Adelie  Torgersen       36.700000       19.30000         193.000000   \n",
      "\n",
      "   body_mass_g     sex  \n",
      "0  3750.000000    male  \n",
      "1  3800.000000  female  \n",
      "2  3250.000000  female  \n",
      "3  4273.976608    male  \n",
      "4  3450.000000  female  \n"
     ]
    }
   ],
   "source": [
    "import pandas as pd\n",
    "\n",
    "# Load the dataset\n",
    "url = 'dataset.csv'\n",
    "df = pd.read_csv(url)\n",
    "\n",
    "# Display the first few rows of the dataset\n",
    "print(\"First few rows of the dataset:\")\n",
    "print(df.head())\n",
    "\n",
    "# Check for missing values in each column\n",
    "print(\"\\nMissing values in each column:\")\n",
    "print(df.isnull().sum())\n",
    "\n",
    "# Handling missing values\n",
    "# Fill missing values in numerical columns with mean using assignment\n",
    "df['bill_length_mm'] = df['bill_length_mm'].fillna(df['bill_length_mm'].mean())\n",
    "df['bill_depth_mm'] = df['bill_depth_mm'].fillna(df['bill_depth_mm'].mean())\n",
    "df['flipper_length_mm'] = df['flipper_length_mm'].fillna(df['flipper_length_mm'].mean())\n",
    "df['body_mass_g'] = df['body_mass_g'].fillna(df['body_mass_g'].mean())\n",
    "\n",
    "# Fill missing values in the categorical 'sex' column with the most frequent value using assignment\n",
    "df['sex'] = df['sex'].fillna(df['sex'].mode()[0])\n",
    "\n",
    "# Check for incorrect data (e.g., negative values in numerical columns)\n",
    "# We expect no negative values in physical measurements, so let's remove such rows if they exist\n",
    "df = df[(df['bill_length_mm'] > 0) & (df['bill_depth_mm'] > 0) &\n",
    "        (df['flipper_length_mm'] > 0) & (df['body_mass_g'] > 0)]\n",
    "\n",
    "# Verify if all missing values are handled and there are no incorrect data\n",
    "print(\"\\nData after cleaning:\")\n",
    "print(df.info())\n",
    "\n",
    "# Display cleaned data\n",
    "print(\"\\nFirst few rows of the cleaned dataset:\")\n",
    "print(df.head())\n"
   ]
  },
  {
   "cell_type": "markdown",
   "id": "ff879a88-9915-4635-8485-7f097c2f3db4",
   "metadata": {},
   "source": [
    "# Q2 What is the average body_mass_g for Gentoo penguins? (code)"
   ]
  },
  {
   "cell_type": "markdown",
   "id": "6652f849-5ccc-4568-93e8-d0334b9ded05",
   "metadata": {},
   "source": [
    "# Filter for Gentoo penguins\n",
    "gentoo_penguins = df[df['species'] == 'Gentoo']\n",
    "\n",
    "# Calculate the average body_mass_g\n",
    "average_body_mass_gentoo = gentoo_penguins['body_mass_g'].mean()\n",
    "print(f\"Average body_mass_g for Gentoo penguins: {average_body_mass_gentoo}\")\n"
   ]
  },
  {
   "cell_type": "code",
   "execution_count": 13,
   "id": "ff95f6e9-a64c-4e90-b012-0b0e5f5bba25",
   "metadata": {},
   "outputs": [],
   "source": [
    "#Q3: How do the distributions of bill_length_mm and bill_depth_mm differ between the three penguin species? Analyze the skewness and kurtosis of each feature for different species. (code and explanation)"
   ]
  },
  {
   "cell_type": "markdown",
   "id": "3a0e4f31-e3ef-40e7-a0a9-9f8288653c0d",
   "metadata": {},
   "source": [
    "from scipy.stats import skew, kurtosis\n",
    "\n",
    "# Group by species\n",
    "species_grouped = df.groupby('species')\n",
    "\n",
    "# Initialize a dictionary to store results\n",
    "dist_stats = {'species': [], 'feature': [], 'skewness': [], 'kurtosis': []}\n",
    "\n",
    "# Iterate through each group and feature\n",
    "for species, group in species_grouped:\n",
    "    for feature in ['bill_length_mm', 'bill_depth_mm']:\n",
    "        skewness_value = skew(group[feature])\n",
    "        kurtosis_value = kurtosis(group[feature])\n",
    "        dist_stats['species'].append(species)\n",
    "        dist_stats['feature'].append(feature)\n",
    "        dist_stats['skewness'].append(skewness_value)\n",
    "        dist_stats['kurtosis'].append(kurtosis_value)\n",
    "\n",
    "# Create a DataFrame to show the results\n",
    "dist_stats_df = pd.DataFrame(dist_stats)\n",
    "print(\"\\nDistribution statistics (skewness and kurtosis):\")\n",
    "print(dist_stats_df)\n"
   ]
  },
  {
   "cell_type": "code",
   "execution_count": 14,
   "id": "bb06f232-c734-439d-87d3-e8e91eda9df3",
   "metadata": {},
   "outputs": [],
   "source": [
    "#Q4: Identify which features in the dataset have outliers. Provide the method used to detect them and visualize the outliers. (code and explanation)"
   ]
  },
  {
   "cell_type": "code",
   "execution_count": 15,
   "id": "3b20526a-578b-4422-a2df-5d287274973f",
   "metadata": {},
   "outputs": [
    {
     "name": "stdout",
     "output_type": "stream",
     "text": [
      "Number of outliers in bill_length_mm: 0\n",
      "Number of outliers in bill_depth_mm: 0\n",
      "Number of outliers in flipper_length_mm: 0\n",
      "Number of outliers in body_mass_g: 3\n"
     ]
    },
    {
     "data": {
      "image/png": "[encoded data removed]",
      "text/plain": [
       "<Figure size 1200x800 with 4 Axes>"
      ]
     },
     "metadata": {},
     "output_type": "display_data"
    }
   ],
   "source": [
    "import seaborn as sns\n",
    "import matplotlib.pyplot as plt\n",
    "\n",
    "# Function to detect outliers using IQR\n",
    "def detect_outliers(df, feature):\n",
    "    Q1 = df[feature].quantile(0.25)\n",
    "    Q3 = df[feature].quantile(0.75)\n",
    "    IQR = Q3 - Q1\n",
    "    lower_bound = Q1 - 1.5 * IQR\n",
    "    upper_bound = Q3 + 1.5 * IQR\n",
    "    outliers = df[(df[feature] < lower_bound) | (df[feature] > upper_bound)]\n",
    "    return outliers\n",
    "\n",
    "# Check outliers for all numerical columns\n",
    "numerical_features = ['bill_length_mm', 'bill_depth_mm', 'flipper_length_mm', 'body_mass_g']\n",
    "outliers_dict = {}\n",
    "\n",
    "for feature in numerical_features:\n",
    "    outliers = detect_outliers(df, feature)\n",
    "    outliers_dict[feature] = outliers.shape[0]\n",
    "    print(f\"Number of outliers in {feature}: {outliers.shape[0]}\")\n",
    "\n",
    "# Visualize outliers using boxplots\n",
    "plt.figure(figsize=(12, 8))\n",
    "for i, feature in enumerate(numerical_features, 1):\n",
    "    plt.subplot(2, 2, i)\n",
    "    sns.boxplot(x='species', y=feature, data=df)\n",
    "    plt.title(f\"Boxplot of {feature}\")\n",
    "\n",
    "plt.tight_layout()\n",
    "plt.show()\n"
   ]
  },
  {
   "cell_type": "markdown",
   "id": "72c88a24-7006-4ace-900d-3d7c3abed56d",
   "metadata": {},
   "source": [
    "#Q5: Does this dataset contribute to the curse of dimensionality? If yes, perform PCA. (code and explanation required)"
   ]
  },
  {
   "cell_type": "markdown",
   "id": "b75e33ac-37f3-4ab9-a64a-22936c3ff306",
   "metadata": {},
   "source": [
    "from sklearn.decomposition import PCA\n",
    "from sklearn.preprocessing import StandardScaler\n",
    "\n",
    "# Standardize the data\n",
    "scaler = StandardScaler()\n",
    "scaled_data = scaler.fit_transform(df[numerical_features])\n",
    "\n",
    "# Perform PCA\n",
    "pca = PCA(n_components=2)\n",
    "pca_result = pca.fit_transform(scaled_data)\n",
    "\n",
    "# Create a DataFrame with PCA results\n",
    "pca_df = pd.DataFrame(pca_result, columns=['PC1', 'PC2'])\n",
    "pca_df['species'] = df['species']\n",
    "\n",
    "# Plot PCA\n",
    "plt.figure(figsize=(8, 6))\n",
    "sns.scatterplot(x='PC1', y='PC2', hue='species', data=pca_df)\n",
    "plt.title('PCA of Penguin Dataset')\n",
    "plt.show()\n",
    "\n",
    "# Explained variance\n",
    "print(f\"Explained variance by each principal component: {pca.explained_variance_ratio_}\")\n"
   ]
  },
  {
   "cell_type": "markdown",
   "id": "f412abe6-4be3-497f-82d2-185ab2f5a84e",
   "metadata": {},
   "source": [
    "#Q6: Use bill_length_mm vs bill_depth_mm and plot 7 different graphs to visualize them. (code)"
   ]
  },
  {
   "cell_type": "markdown",
   "id": "175147f4-cd82-430d-9fb1-835c09fff43d",
   "metadata": {},
   "source": [
    "import pandas as pd\n",
    "import seaborn as sns\n",
    "import matplotlib.pyplot as plt\n",
    "\n",
    "# Load the dataset\n",
    "url = 'dataset.csv'\n",
    "df = pd.read_csv(url)\n",
    "\n",
    "# Set the figure size for the entire plot\n",
    "plt.figure(figsize=(18, 12))\n",
    "\n",
    "# Scatter Plot\n",
    "plt.subplot(3, 3, 1)\n",
    "sns.scatterplot(x='bill_length_mm', y='bill_depth_mm', hue='species', data=df)\n",
    "plt.title('Scatter Plot')\n",
    "\n",
    "# Box Plot\n",
    "plt.subplot(3, 3, 2)\n",
    "sns.boxplot(x='species', y='bill_length_mm', data=df)\n",
    "plt.title('Box Plot of bill_length_mm')\n",
    "\n",
    "# Violin Plot\n",
    "plt.subplot(3, 3, 3)\n",
    "sns.violinplot(x='species', y='bill_depth_mm', data=df)\n",
    "plt.title('Violin Plot of bill_depth_mm')\n",
    "\n",
    "# Joint Plot\n",
    "# Note: Jointplot cannot be placed inside a subplot grid, so we create it separately\n",
    "plt.subplot(3, 3, 4)\n",
    "sns.scatterplot(x='bill_length_mm', y='bill_depth_mm', hue='species', data=df)\n",
    "plt.title('Joint Plot Placeholder (Actual Joint Plot is separate)')\n",
    "\n",
    "# Creating the Joint Plot separately as it cannot be integrated with plt.subplot\n",
    "plt.figure(figsize=(6, 6))\n",
    "sns.jointplot(x='bill_length_mm', y='bill_depth_mm', data=df, hue='species')\n",
    "plt.suptitle('Joint Plot (Separate Figure)')\n",
    "plt.show()\n",
    "\n",
    "# Pair Plot\n",
    "# Note: Pairplot also creates its own figure, so it is separated here\n",
    "sns.pairplot(df, hue='species')\n",
    "plt.suptitle('Pair Plot (Separate Figure)', y=1.02)\n",
    "plt.show()\n",
    "\n",
    "# Histogram\n",
    "plt.subplot(3, 3, 5)\n",
    "sns.histplot(df, x='bill_length_mm', hue='species', kde=True, multiple='stack')\n",
    "plt.title('Histogram of bill_length_mm')\n",
    "\n",
    "# KDE Plot\n",
    "plt.subplot(3, 3, 6)\n",
    "sns.kdeplot(data=df, x='bill_length_mm', hue='species', fill=True)\n",
    "plt.title('KDE Plot of bill_length_mm')\n",
    "\n",
    "# Tight layout for main figure\n",
    "plt.tight_layout()\n",
    "plt.show()\n"
   ]
  },
  {
   "cell_type": "code",
   "execution_count": 16,
   "id": "d8389980-1911-461d-a9e9-45d2c09a9145",
   "metadata": {},
   "outputs": [],
   "source": [
    "#Q7: Find the maximum flipper_length_mm for each combination of species and island. Which species has the longest flippers on each island? (code)"
   ]
  },
  {
   "cell_type": "code",
   "execution_count": 17,
   "id": "f41c6011-c68e-4c43-83e3-95ab88303888",
   "metadata": {},
   "outputs": [
    {
     "name": "stdout",
     "output_type": "stream",
     "text": [
      "Maximum flipper_length_mm for each combination of species and island:\n",
      "     species     island  flipper_length_mm\n",
      "0     Adelie     Biscoe              203.0\n",
      "1     Adelie      Dream              208.0\n",
      "2     Adelie  Torgersen              210.0\n",
      "3  Chinstrap      Dream              212.0\n",
      "4     Gentoo     Biscoe              231.0\n",
      "\n",
      "Species with the longest flippers on each island:\n",
      "     species     island  flipper_length_mm\n",
      "4     Gentoo     Biscoe              231.0\n",
      "3  Chinstrap      Dream              212.0\n",
      "2     Adelie  Torgersen              210.0\n"
     ]
    }
   ],
   "source": [
    "# Group by species and island, and find maximum flipper_length_mm\n",
    "max_flipper_length = df.groupby(['species', 'island'])['flipper_length_mm'].max().reset_index()\n",
    "\n",
    "print(\"Maximum flipper_length_mm for each combination of species and island:\")\n",
    "print(max_flipper_length)\n",
    "\n",
    "# Find species with the longest flippers on each island\n",
    "longest_flippers_per_island = max_flipper_length.loc[max_flipper_length.groupby('island')['flipper_length_mm'].idxmax()]\n",
    "\n",
    "print(\"\\nSpecies with the longest flippers on each island:\")\n",
    "print(longest_flippers_per_island)\n"
   ]
  },
  {
   "cell_type": "code",
   "execution_count": 18,
   "id": "74517c5d-302a-40dd-88d3-52a20bc80090",
   "metadata": {},
   "outputs": [],
   "source": [
    "#Q8: Perform z-score normalization on this dataset. (code)"
   ]
  },
  {
   "cell_type": "code",
   "execution_count": 19,
   "id": "b27d8624-bfe4-4240-b3cf-4e11dbf1b7fd",
   "metadata": {},
   "outputs": [
    {
     "name": "stdout",
     "output_type": "stream",
     "text": [
      "Data after z-score normalization:\n",
      "  species     island  bill_length_mm  bill_depth_mm  flipper_length_mm  \\\n",
      "0  Adelie  Torgersen       -0.882230       0.787743          -1.422488   \n",
      "1  Adelie  Torgersen       -0.808355       0.126556          -1.065352   \n",
      "2  Adelie  Torgersen       -0.660604       0.431719          -0.422507   \n",
      "3  Adelie  Torgersen        0.000000       0.000000           0.000000   \n",
      "4  Adelie  Torgersen       -1.325483       1.092905          -0.565361   \n",
      "\n",
      "   body_mass_g     sex  \n",
      "0    -0.470213    male  \n",
      "1    -0.425343  female  \n",
      "2    -0.918910  female  \n",
      "3     0.000000    male  \n",
      "4    -0.739431  female  \n"
     ]
    }
   ],
   "source": [
    "from scipy.stats import zscore\n",
    "\n",
    "# Apply z-score normalization on numerical columns\n",
    "df_normalized = df.copy()\n",
    "for feature in numerical_features:\n",
    "    df_normalized[feature] = zscore(df[feature])\n",
    "\n",
    "print(\"Data after z-score normalization:\")\n",
    "print(df_normalized.head())\n"
   ]
  },
  {
   "cell_type": "code",
   "execution_count": null,
   "id": "3113956d-8ec3-4b89-ae8c-21a562febb32",
   "metadata": {},
   "outputs": [],
   "source": []
  }
 ],
 "metadata": {
  "kernelspec": {
   "display_name": "Python 3 (ipykernel)",
   "language": "python",
   "name": "python3"
  },
  "language_info": {
   "codemirror_mode": {
    "name": "ipython",
    "version": 3
   },
   "file_extension": ".py",
   "mimetype": "text/x-python",
   "name": "python",
   "nbconvert_exporter": "python",
   "pygments_lexer": "ipython3",
   "version": "3.11.5"
  }
 },
 "nbformat": 4,
 "nbformat_minor": 5
}
